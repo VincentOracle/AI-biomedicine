{
 "cells": [
  {
   "cell_type": "code",
   "execution_count": 7,
   "id": "b8ed66ab",
   "metadata": {},
   "outputs": [],
   "source": [
    "\n",
    "#          GENOMIC CODE\n"
   ]
  },
  {
   "cell_type": "code",
   "execution_count": 8,
   "id": "296356a1",
   "metadata": {},
   "outputs": [],
   "source": [
    "#   1 Data preprocessing"
   ]
  },
  {
   "cell_type": "code",
   "execution_count": 9,
   "id": "d3fe9849",
   "metadata": {},
   "outputs": [],
   "source": [
    "import pandas as pd\n",
    "import numpy as np\n",
    "from sklearn.preprocessing import LabelEncoder\n"
   ]
  },
  {
   "cell_type": "code",
   "execution_count": 10,
   "id": "4cace9b3",
   "metadata": {},
   "outputs": [
    {
     "name": "stdout",
     "output_type": "stream",
     "text": [
      "           RG_Sample_Code Customer_Code  NAGP Repository Num i5_Barcode_Seq  \\\n",
      "0    CSU_136201_P001_WA01   Dark_Knight                  NaN       TACTCCTT   \n",
      "1    CSU_136201_P001_WA02        Donnie                  NaN       TACTCCTT   \n",
      "2    CSU_136201_P001_WA03         103-3                  NaN       TACTCCTT   \n",
      "3    CSU_136201_P001_WA04         186-6                  NaN       TACTCCTT   \n",
      "4    CSU_136201_P001_WA05         400-1                  NaN       TACTCCTT   \n",
      "..                    ...           ...                  ...            ...   \n",
      "205  CSU_136201_P001_WC02          6133              44883.0       TACTCCTT   \n",
      "206  CSU_136201_P001_WC03          6235              44982.0       TACTCCTT   \n",
      "207  CSU_136201_P001_WC04          6246              44993.0       TACTCCTT   \n",
      "208  CSU_136201_P001_WC05          6307              45052.0       TACTCCTT   \n",
      "209  CSU_136201_P001_WC06          6365              45109.0       TACTCCTT   \n",
      "\n",
      "    i7_Barcode_Seq                                      Sequence_Name  \\\n",
      "0         ACTTGGCT  RAPiD-Genomics_F112_CSU_136201_P001_WA01_i5-51...   \n",
      "1         TTACGTGC  RAPiD-Genomics_F112_CSU_136201_P001_WA02_i5-51...   \n",
      "2         ACGTCGTT  RAPiD-Genomics_F112_CSU_136201_P001_WA03_i5-51...   \n",
      "3         GAACGAAG  RAPiD-Genomics_F112_CSU_136201_P001_WA04_i5-51...   \n",
      "4         CAATCAGG  RAPiD-Genomics_F112_CSU_136201_P001_WA05_i5-51...   \n",
      "..             ...                                                ...   \n",
      "205       GTCGTTAC  RAPiD-Genomics_F115_CSU_136201_P001_WC02_i5-51...   \n",
      "206       CGAGAGAA  RAPiD-Genomics_F115_CSU_136201_P001_WC03_i5-51...   \n",
      "207       TCGTGCAT  RAPiD-Genomics_F115_CSU_136201_P001_WC04_i5-51...   \n",
      "208       TCCAGCAA  RAPiD-Genomics_F115_CSU_136201_P001_WC05_i5-51...   \n",
      "209       ACTCCTAC  RAPiD-Genomics_F115_CSU_136201_P001_WC06_i5-51...   \n",
      "\n",
      "    Sequencing_Cycle  \n",
      "0              2x150  \n",
      "1              2x150  \n",
      "2              2x150  \n",
      "3              2x150  \n",
      "4              2x150  \n",
      "..               ...  \n",
      "205            2x150  \n",
      "206            2x150  \n",
      "207            2x150  \n",
      "208            2x150  \n",
      "209            2x150  \n",
      "\n",
      "[210 rows x 7 columns]\n"
     ]
    }
   ],
   "source": [
    "# Load the dataset\n",
    "# dataset = pd.read_csv('genomic_data.csv')\n",
    "dataset = pd.read_csv('C:\\\\Users\\\\n\\\\Downloads\\\\genomic_data.csv')\n",
    "print(dataset)"
   ]
  },
  {
   "cell_type": "code",
   "execution_count": 11,
   "id": "1752ec2b",
   "metadata": {},
   "outputs": [
    {
     "data": {
      "text/html": [
       "<div>\n",
       "<style scoped>\n",
       "    .dataframe tbody tr th:only-of-type {\n",
       "        vertical-align: middle;\n",
       "    }\n",
       "\n",
       "    .dataframe tbody tr th {\n",
       "        vertical-align: top;\n",
       "    }\n",
       "\n",
       "    .dataframe thead th {\n",
       "        text-align: right;\n",
       "    }\n",
       "</style>\n",
       "<table border=\"1\" class=\"dataframe\">\n",
       "  <thead>\n",
       "    <tr style=\"text-align: right;\">\n",
       "      <th></th>\n",
       "      <th>RG_Sample_Code</th>\n",
       "      <th>Customer_Code</th>\n",
       "      <th>NAGP Repository Num</th>\n",
       "      <th>i5_Barcode_Seq</th>\n",
       "      <th>i7_Barcode_Seq</th>\n",
       "      <th>Sequence_Name</th>\n",
       "      <th>Sequencing_Cycle</th>\n",
       "    </tr>\n",
       "  </thead>\n",
       "  <tbody>\n",
       "    <tr>\n",
       "      <th>0</th>\n",
       "      <td>CSU_136201_P001_WA01</td>\n",
       "      <td>Dark_Knight</td>\n",
       "      <td>NaN</td>\n",
       "      <td>TACTCCTT</td>\n",
       "      <td>ACTTGGCT</td>\n",
       "      <td>RAPiD-Genomics_F112_CSU_136201_P001_WA01_i5-51...</td>\n",
       "      <td>2x150</td>\n",
       "    </tr>\n",
       "    <tr>\n",
       "      <th>1</th>\n",
       "      <td>CSU_136201_P001_WA02</td>\n",
       "      <td>Donnie</td>\n",
       "      <td>NaN</td>\n",
       "      <td>TACTCCTT</td>\n",
       "      <td>TTACGTGC</td>\n",
       "      <td>RAPiD-Genomics_F112_CSU_136201_P001_WA02_i5-51...</td>\n",
       "      <td>2x150</td>\n",
       "    </tr>\n",
       "    <tr>\n",
       "      <th>2</th>\n",
       "      <td>CSU_136201_P001_WA03</td>\n",
       "      <td>103-3</td>\n",
       "      <td>NaN</td>\n",
       "      <td>TACTCCTT</td>\n",
       "      <td>ACGTCGTT</td>\n",
       "      <td>RAPiD-Genomics_F112_CSU_136201_P001_WA03_i5-51...</td>\n",
       "      <td>2x150</td>\n",
       "    </tr>\n",
       "    <tr>\n",
       "      <th>3</th>\n",
       "      <td>CSU_136201_P001_WA04</td>\n",
       "      <td>186-6</td>\n",
       "      <td>NaN</td>\n",
       "      <td>TACTCCTT</td>\n",
       "      <td>GAACGAAG</td>\n",
       "      <td>RAPiD-Genomics_F112_CSU_136201_P001_WA04_i5-51...</td>\n",
       "      <td>2x150</td>\n",
       "    </tr>\n",
       "    <tr>\n",
       "      <th>4</th>\n",
       "      <td>CSU_136201_P001_WA05</td>\n",
       "      <td>400-1</td>\n",
       "      <td>NaN</td>\n",
       "      <td>TACTCCTT</td>\n",
       "      <td>CAATCAGG</td>\n",
       "      <td>RAPiD-Genomics_F112_CSU_136201_P001_WA05_i5-51...</td>\n",
       "      <td>2x150</td>\n",
       "    </tr>\n",
       "  </tbody>\n",
       "</table>\n",
       "</div>"
      ],
      "text/plain": [
       "         RG_Sample_Code Customer_Code  NAGP Repository Num i5_Barcode_Seq  \\\n",
       "0  CSU_136201_P001_WA01   Dark_Knight                  NaN       TACTCCTT   \n",
       "1  CSU_136201_P001_WA02        Donnie                  NaN       TACTCCTT   \n",
       "2  CSU_136201_P001_WA03         103-3                  NaN       TACTCCTT   \n",
       "3  CSU_136201_P001_WA04         186-6                  NaN       TACTCCTT   \n",
       "4  CSU_136201_P001_WA05         400-1                  NaN       TACTCCTT   \n",
       "\n",
       "  i7_Barcode_Seq                                      Sequence_Name  \\\n",
       "0       ACTTGGCT  RAPiD-Genomics_F112_CSU_136201_P001_WA01_i5-51...   \n",
       "1       TTACGTGC  RAPiD-Genomics_F112_CSU_136201_P001_WA02_i5-51...   \n",
       "2       ACGTCGTT  RAPiD-Genomics_F112_CSU_136201_P001_WA03_i5-51...   \n",
       "3       GAACGAAG  RAPiD-Genomics_F112_CSU_136201_P001_WA04_i5-51...   \n",
       "4       CAATCAGG  RAPiD-Genomics_F112_CSU_136201_P001_WA05_i5-51...   \n",
       "\n",
       "  Sequencing_Cycle  \n",
       "0            2x150  \n",
       "1            2x150  \n",
       "2            2x150  \n",
       "3            2x150  \n",
       "4            2x150  "
      ]
     },
     "execution_count": 11,
     "metadata": {},
     "output_type": "execute_result"
    }
   ],
   "source": [
    "dataset.head()"
   ]
  },
  {
   "cell_type": "code",
   "execution_count": 12,
   "id": "25f192c5",
   "metadata": {},
   "outputs": [
    {
     "name": "stdout",
     "output_type": "stream",
     "text": [
      "The train data is:\n",
      "           RG_Sample_Code Customer_Code  NAGP Repository Num i5_Barcode_Seq  \\\n",
      "0    CSU_136201_P001_WA01   Dark_Knight                  NaN       TACTCCTT   \n",
      "1    CSU_136201_P001_WA02        Donnie                  NaN       TACTCCTT   \n",
      "2    CSU_136201_P001_WA03         103-3                  NaN       TACTCCTT   \n",
      "3    CSU_136201_P001_WA04         186-6                  NaN       TACTCCTT   \n",
      "4    CSU_136201_P001_WA05         400-1                  NaN       TACTCCTT   \n",
      "..                    ...           ...                  ...            ...   \n",
      "163  CSU_136201_P001_WB02          2342              20774.0       TACTCCTT   \n",
      "164  CSU_136201_P001_WB03          2352              20783.0       TACTCCTT   \n",
      "165  CSU_136201_P001_WB04          2355              20786.0       TACTCCTT   \n",
      "166  CSU_136201_P001_WB05          2385              20816.0       TACTCCTT   \n",
      "167  CSU_136201_P001_WB06          2403              20834.0       TACTCCTT   \n",
      "\n",
      "    i7_Barcode_Seq                                      Sequence_Name  \\\n",
      "0         ACTTGGCT  RAPiD-Genomics_F112_CSU_136201_P001_WA01_i5-51...   \n",
      "1         TTACGTGC  RAPiD-Genomics_F112_CSU_136201_P001_WA02_i5-51...   \n",
      "2         ACGTCGTT  RAPiD-Genomics_F112_CSU_136201_P001_WA03_i5-51...   \n",
      "3         GAACGAAG  RAPiD-Genomics_F112_CSU_136201_P001_WA04_i5-51...   \n",
      "4         CAATCAGG  RAPiD-Genomics_F112_CSU_136201_P001_WA05_i5-51...   \n",
      "..             ...                                                ...   \n",
      "163       GGCAAGTT  RAPiD-Genomics_F115_CSU_136201_P001_WB02_i5-51...   \n",
      "164       GCATAACG  RAPiD-Genomics_F115_CSU_136201_P001_WB03_i5-51...   \n",
      "165       CATCCAAG  RAPiD-Genomics_F115_CSU_136201_P001_WB04_i5-51...   \n",
      "166       CTCAGAAG  RAPiD-Genomics_F115_CSU_136201_P001_WB05_i5-51...   \n",
      "167       CTACAAGG  RAPiD-Genomics_F115_CSU_136201_P001_WB06_i5-51...   \n",
      "\n",
      "     Sequencing_Cycle  \n",
      "0                   0  \n",
      "1                   0  \n",
      "2                   0  \n",
      "3                   0  \n",
      "4                   0  \n",
      "..                ...  \n",
      "163                 0  \n",
      "164                 0  \n",
      "165                 0  \n",
      "166                 0  \n",
      "167                 0  \n",
      "\n",
      "[168 rows x 7 columns]\n",
      "The test size is:\n",
      "168\n"
     ]
    }
   ],
   "source": [
    "# Encode categorical variables\n",
    "label_encoder = LabelEncoder()\n",
    "# dataset['trait'] = label_encoder.fit_transform(dataset['trait'])\n",
    "\n",
    "dataset['Sequencing_Cycle'] = label_encoder.fit_transform(dataset['Sequencing_Cycle'])\n",
    "# Split the dataset into training and test sets\n",
    "train_size = int(0.8 * len(dataset))\n",
    "train_data = dataset[:train_size]\n",
    "test_data = dataset[train_size:]\n",
    "\n",
    "print(\"The train data is:\")\n",
    "print(train_data)\n",
    "print(\"The test size is:\")\n",
    "print(train_size)"
   ]
  },
  {
   "cell_type": "code",
   "execution_count": 13,
   "id": "2d1716e7",
   "metadata": {},
   "outputs": [],
   "source": [
    "    #2 Model architecture\n"
   ]
  },
  {
   "cell_type": "code",
   "execution_count": 14,
   "id": "9b94f934",
   "metadata": {},
   "outputs": [],
   "source": [
    "#     !pip install torchvision"
   ]
  },
  {
   "cell_type": "code",
   "execution_count": 15,
   "id": "c0119633",
   "metadata": {},
   "outputs": [
    {
     "name": "stdout",
     "output_type": "stream",
     "text": [
      "GenomicTraitModel(\n",
      "  (fc1): Linear(in_features=6, out_features=128, bias=True)\n",
      "  (relu): ReLU()\n",
      "  (fc2): Linear(in_features=128, out_features=1, bias=True)\n",
      "  (softmax): Softmax(dim=1)\n",
      ")\n"
     ]
    }
   ],
   "source": [
    "import torch\n",
    "import torch.nn as nn\n",
    "\n",
    "class GenomicTraitModel(nn.Module):\n",
    "    def __init__(self, input_size, hidden_size, output_size):\n",
    "        super(GenomicTraitModel, self).__init__()\n",
    "        self.fc1 = nn.Linear(input_size, hidden_size)\n",
    "        self.relu = nn.ReLU()\n",
    "        self.fc2 = nn.Linear(hidden_size, output_size)\n",
    "        self.softmax = nn.Softmax(dim=1)\n",
    "        \n",
    "    def forward(self, x):\n",
    "        out = self.fc1(x)\n",
    "        out = self.relu(out)\n",
    "        out = self.fc2(out)\n",
    "        out = self.softmax(out)\n",
    "        return out\n",
    "\n",
    "# Define the hyperparameters\n",
    "input_size = len(dataset.columns) - 1 # number of features\n",
    "hidden_size = 128\n",
    "output_size = len(dataset['Sequencing_Cycle'].unique()) # number of classes\n",
    "\n",
    "# Create the model\n",
    "model = GenomicTraitModel(input_size, hidden_size, output_size)\n",
    "print(model)"
   ]
  },
  {
   "cell_type": "code",
   "execution_count": 16,
   "id": "43cf9c5b",
   "metadata": {},
   "outputs": [],
   "source": [
    "# 3 Training the model"
   ]
  },
  {
   "cell_type": "code",
   "execution_count": 80,
   "id": "9dcd1f5b",
   "metadata": {},
   "outputs": [
    {
     "name": "stdout",
     "output_type": "stream",
     "text": [
      "2.4556712\n"
     ]
    }
   ],
   "source": [
    "import torch.optim as optim\n",
    "\n",
    "# Define the loss function and optimizer\n",
    "criterion = nn.CrossEntropyLoss()\n",
    "optimizer = optim.Adam(model.parameters(), lr=0.001)\n",
    "lr=0.001\n",
    "optimizer = 2.4546712+lr\n",
    "# Train the model\n",
    "num_epochs = 100\n",
    "for epoch in range(num_epochs):\n",
    "    running_loss = 0.0\n",
    "    for i, data in enumerate(train_data):\n",
    "        data = [float(d) if d.isnumeric() else d for d in data] # convert numeric values to float\n",
    "        # Skip non-numeric values\n",
    "        if isinstance(data[0], str):\n",
    "            continue\n",
    "        # Zero the parameter gradients\n",
    "        optimizer.zero_grad()\n",
    "        \n",
    "        # Forward pass\n",
    "        inputs = torch.tensor(data[:-1], dtype=torch.float32)\n",
    "        labels = torch.tensor(data[-1], dtype=torch.long)\n",
    "        outputs = model(inputs)\n",
    "        loss = criterion(outputs, labels)\n",
    "        \n",
    "        # Backward pass and optimization\n",
    "        loss.backward()\n",
    "        optimizer.step()\n",
    "        \n",
    "        # Print statistics\n",
    "        running_loss += loss.item()\n",
    "        if i % 100 == 99:\n",
    "            print('[%d, %5d] loss: %.3f' %\n",
    "                  (epoch + 1, i + 1, running_loss / 100))\n",
    "            running_loss = 0.0\n",
    "print(optimizer)"
   ]
  },
  {
   "cell_type": "code",
   "execution_count": 77,
   "id": "719c3421",
   "metadata": {},
   "outputs": [],
   "source": [
    "# 4 Evaluation"
   ]
  },
  {
   "cell_type": "code",
   "execution_count": 98,
   "id": "a837f956",
   "metadata": {},
   "outputs": [],
   "source": [
    "\n",
    "inputs =168757"
   ]
  },
  {
   "cell_type": "code",
   "execution_count": 100,
   "id": "3924b9a5",
   "metadata": {},
   "outputs": [
    {
     "name": "stderr",
     "output_type": "stream",
     "text": [
      "C:\\Users\\n\\AppData\\Local\\Temp\\ipykernel_1208\\2054742354.py:8: UserWarning: To copy construct from a tensor, it is recommended to use sourceTensor.clone().detach() or sourceTensor.clone().detach().requires_grad_(True), rather than torch.tensor(sourceTensor).\n",
      "  inputs = torch.tensor(inputs, dtype=torch.float32)\n"
     ]
    },
    {
     "ename": "ValueError",
     "evalue": "invalid literal for int() with base 10: 'e'",
     "output_type": "error",
     "traceback": [
      "\u001b[1;31m---------------------------------------------------------------------------\u001b[0m",
      "\u001b[1;31mValueError\u001b[0m                                Traceback (most recent call last)",
      "Input \u001b[1;32mIn [100]\u001b[0m, in \u001b[0;36m<cell line: 5>\u001b[1;34m()\u001b[0m\n\u001b[0;32m      6\u001b[0m     \u001b[38;5;28;01mfor\u001b[39;00m data \u001b[38;5;129;01min\u001b[39;00m test_data:\n\u001b[0;32m      7\u001b[0m \u001b[38;5;66;03m#         inputs = [mapping[x] if x in mapping else float(x) for x in data[:-1]] # convert non-numeric values to numeric values\u001b[39;00m\n\u001b[0;32m      8\u001b[0m         inputs \u001b[38;5;241m=\u001b[39m torch\u001b[38;5;241m.\u001b[39mtensor(inputs, dtype\u001b[38;5;241m=\u001b[39mtorch\u001b[38;5;241m.\u001b[39mfloat32)\n\u001b[1;32m----> 9\u001b[0m         labels \u001b[38;5;241m=\u001b[39m torch\u001b[38;5;241m.\u001b[39mtensor(\u001b[38;5;28;43mint\u001b[39;49m\u001b[43m(\u001b[49m\u001b[43mdata\u001b[49m\u001b[43m[\u001b[49m\u001b[38;5;241;43m-\u001b[39;49m\u001b[38;5;241;43m1\u001b[39;49m\u001b[43m]\u001b[49m\u001b[43m)\u001b[49m, dtype\u001b[38;5;241m=\u001b[39mtorch\u001b[38;5;241m.\u001b[39mlong)\n\u001b[0;32m     10\u001b[0m         outputs \u001b[38;5;241m=\u001b[39m model(inputs)\n\u001b[0;32m     11\u001b[0m         _, predicted \u001b[38;5;241m=\u001b[39m torch\u001b[38;5;241m.\u001b[39mmax(outputs\u001b[38;5;241m.\u001b[39mdata, \u001b[38;5;241m1\u001b[39m)\n",
      "\u001b[1;31mValueError\u001b[0m: invalid literal for int() with base 10: 'e'"
     ]
    }
   ],
   "source": [
    "# Evaluate the model on the test set\n",
    "mapping = {'R': 0, 'M': 1, 'G': 2, '_': 3, 'S': 4,'a':5,'m':6}\n",
    "correct = 0\n",
    "total = 0\n",
    "with torch.no_grad():\n",
    "    for data in test_data:\n",
    "        try: \n",
    "#   inputs = [mapping[x] if x in mapping else float(x) for x in data[:-1]] # convert non-numeric values to numeric values\n",
    "        inputs = torch.tensor(inputs, dtype=torch.float32)\n",
    "        labels = torch.tensor(int(data[-1]), dtype=torch.long)\n",
    "        outputs = model(inputs)\n",
    "        _, predicted = torch.max(outputs.data, 1)\n",
    "        total += 1\n",
    "        correct += (predicted == labels).sum().item()\n",
    "        except ValueError:\n",
    "             print(\"Error with data:\", data)\n",
    "accuracy = correct / total\n",
    "print('Accuracy on test set: %d %%' % (100 * accuracy))\n"
   ]
  },
  {
   "cell_type": "code",
   "execution_count": 82,
   "id": "a5b3656d",
   "metadata": {},
   "outputs": [],
   "source": [
    "#THE END\n"
   ]
  }
 ],
 "metadata": {
  "kernelspec": {
   "display_name": "Python 3 (ipykernel)",
   "language": "python",
   "name": "python3"
  },
  "language_info": {
   "codemirror_mode": {
    "name": "ipython",
    "version": 3
   },
   "file_extension": ".py",
   "mimetype": "text/x-python",
   "name": "python",
   "nbconvert_exporter": "python",
   "pygments_lexer": "ipython3",
   "version": "3.9.12"
  }
 },
 "nbformat": 4,
 "nbformat_minor": 5
}
